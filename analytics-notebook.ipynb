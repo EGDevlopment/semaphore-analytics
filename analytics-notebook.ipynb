{
 "cells": [
  {
   "cell_type": "code",
   "execution_count": 1,
   "id": "d5d768c6",
   "metadata": {},
   "outputs": [],
   "source": [
    "import firebase_admin\n",
    "from firebase_admin import credentials\n",
    "from firebase_admin import firestore\n",
    "\n",
    "cred = credentials.Certificate(\"semaphore-a7fd1-firebase-adminsdk-dyeb3-e430d9430a.json\")\n"
   ]
  },
  {
   "cell_type": "code",
   "execution_count": 2,
   "id": "fa5db29d",
   "metadata": {},
   "outputs": [],
   "source": [
    "app = firebase_admin.initialize_app(cred)\n",
    "\n",
    "db = firestore.client()"
   ]
  },
  {
   "cell_type": "code",
   "execution_count": 6,
   "id": "a18e5cf2",
   "metadata": {},
   "outputs": [
    {
     "name": "stdout",
     "output_type": "stream",
     "text": [
      "[{'text': 'My phone has slowed down so much...', 'tag': 'zackzomor', 'id': 'CYIMUn78OTWEsb9iDhWS', 'timestamp': DatetimeWithNanoseconds(2023, 1, 5, 16, 3, 55, 595000, tzinfo=datetime.timezone.utc), 'username': 'Zack Zomor', 'userImg': 'https://lh3.googleusercontent.com/a/AEdFTp6sqFzAnm4SBmuzlJL2rulbgl1NZHSEpMQIMwXQ=s96-c'}, {'text': 'Gruppa Khmuri is a really good band, would really recommended ', 'tag': 'raspneri', 'id': 'j3yzggbxE9FCb4QTIHZR', 'timestamp': DatetimeWithNanoseconds(2023, 1, 5, 16, 13, 45, 643000, tzinfo=datetime.timezone.utc), 'username': 'Rasp Neri', 'userImg': 'https://firebasestorage.googleapis.com/v0/b/semaphore-a7fd1.appspot.com/o/users%2Fj3yzggbxE9FCb4QTIHZR%2Fimage?alt=media&token=16b8c731-8d94-490f-bcd0-1ae771593f46'}, {'text': 'Lorem ipsum dolor sit amet, consectetur adipiscing elit. Vestibulum aliquam elementum massa a sollicitudin. Praesent. \\n😀🙃🙃', 'userImg': 'https://lh3.googleusercontent.com/a/AEdFTp6ezsycop5FQ51bCUGS2zW-EzM8l6R7cPyJZeVU=s96-c', 'id': 'gjNJo321L4j7LRA79xYD', 'timestamp': DatetimeWithNanoseconds(2022, 12, 26, 16, 19, 48, 32000, tzinfo=datetime.timezone.utc), 'username': 'Jesse Dixon', 'tag': 'jessedixon'}, {'text': 'Biden is not that great actually', 'tag': 'zackzomor', 'id': 'CYIMUn78OTWEsb9iDhWS', 'timestamp': DatetimeWithNanoseconds(2023, 1, 5, 16, 14, 46, 499000, tzinfo=datetime.timezone.utc), 'username': 'Zack Zomor', 'userImg': 'https://lh3.googleusercontent.com/a/AEdFTp6sqFzAnm4SBmuzlJL2rulbgl1NZHSEpMQIMwXQ=s96-c'}, {'text': 'Test', 'tag': 'jessedixon', 'id': 'gjNJo321L4j7LRA79xYD', 'timestamp': DatetimeWithNanoseconds(2022, 12, 26, 17, 47, 47, 769000, tzinfo=datetime.timezone.utc), 'username': 'Jesse Dixon', 'userImg': 'https://lh3.googleusercontent.com/a/AEdFTp6ezsycop5FQ51bCUGS2zW-EzM8l6R7cPyJZeVU=s96-c'}, {'text': \"in the end, I'm thankful we have Biden instead of the other guy\", 'tag': 'raspneri', 'id': 'j3yzggbxE9FCb4QTIHZR', 'timestamp': DatetimeWithNanoseconds(2023, 1, 5, 16, 21, 41, 614000, tzinfo=datetime.timezone.utc), 'username': 'Rasp Neri', 'userImg': 'https://firebasestorage.googleapis.com/v0/b/semaphore-a7fd1.appspot.com/o/users%2Fj3yzggbxE9FCb4QTIHZR%2Fimage?alt=media&token=16b8c731-8d94-490f-bcd0-1ae771593f46'}, {'text': 'The most dangerous thing in the world is a bad decision.', 'tag': 'zackzomor', 'id': 'CYIMUn78OTWEsb9iDhWS', 'timestamp': DatetimeWithNanoseconds(2023, 1, 5, 16, 6, 44, 836000, tzinfo=datetime.timezone.utc), 'username': 'Zack Zomor', 'userImg': 'https://lh3.googleusercontent.com/a/AEdFTp6sqFzAnm4SBmuzlJL2rulbgl1NZHSEpMQIMwXQ=s96-c'}, {'text': \"Biden isn't that bad actually\", 'userImg': 'https://firebasestorage.googleapis.com/v0/b/semaphore-a7fd1.appspot.com/o/users%2Fj3yzggbxE9FCb4QTIHZR%2Fimage?alt=media&token=16b8c731-8d94-490f-bcd0-1ae771593f46', 'id': 'j3yzggbxE9FCb4QTIHZR', 'timestamp': DatetimeWithNanoseconds(2023, 1, 5, 16, 11, 46, 685000, tzinfo=datetime.timezone.utc), 'username': 'Rasp Neri', 'tag': 'raspneri'}, {'text': 'Eating healthy is really important', 'userImg': 'https://firebasestorage.googleapis.com/v0/b/semaphore-a7fd1.appspot.com/o/users%2Fj3yzggbxE9FCb4QTIHZR%2Fimage?alt=media&token=16b8c731-8d94-490f-bcd0-1ae771593f46', 'id': 'j3yzggbxE9FCb4QTIHZR', 'timestamp': DatetimeWithNanoseconds(2023, 1, 5, 16, 13, 23, 774000, tzinfo=datetime.timezone.utc), 'username': 'Rasp Neri', 'tag': 'raspneri'}, {'text': \"Let's try this app out\", 'userImg': 'https://lh3.googleusercontent.com/a/AEdFTp5pQUoOITYqWNatd30fD_jGgYSagGsirEvozGID=s96-c', 'id': 'DQhPFAordF4XTa0FhNbt', 'timestamp': DatetimeWithNanoseconds(2023, 1, 5, 16, 23, 52, 516000, tzinfo=datetime.timezone.utc), 'username': 'Mel Summer', 'tag': 'melsummer'}, {'text': 'Lorem ipsum dolor sit amet, consectetur adipiscing elit. Nunc scelerisque sed nunc ac laoreet. Class. 😄😄😄', 'userImg': 'https://lh3.googleusercontent.com/a/AEdFTp6ezsycop5FQ51bCUGS2zW-EzM8l6R7cPyJZeVU=s96-c', 'id': 'gjNJo321L4j7LRA79xYD', 'timestamp': DatetimeWithNanoseconds(2022, 12, 26, 16, 21, 2, 416000, tzinfo=datetime.timezone.utc), 'username': 'Jesse Dixon', 'tag': 'jessedixon'}, {'text': 'Nice, i can write hare ', 'userImg': 'https://lh3.googleusercontent.com/a/AEdFTp5xysqNIGxjOxSoBh1-nbxWpgNT6faSu1S3WOuupQ=s96-c', 'id': 'zpZ7Z86Eb1PFv1lv0cii', 'timestamp': DatetimeWithNanoseconds(2023, 1, 5, 18, 52, 15, 302000, tzinfo=datetime.timezone.utc), 'username': 'Masha “bel” Bezfamilnaya', 'tag': 'masha“bel”bezfamilnaya'}, {'text': 'I ate 6 donuts for breakfast, 4 for lunch, 3 for dinner, and 1 for dessert. Do I have diabetes?', 'userImg': 'https://lh3.googleusercontent.com/a/AEdFTp6sqFzAnm4SBmuzlJL2rulbgl1NZHSEpMQIMwXQ=s96-c', 'id': 'CYIMUn78OTWEsb9iDhWS', 'timestamp': DatetimeWithNanoseconds(2023, 1, 5, 16, 2, 57, 246000, tzinfo=datetime.timezone.utc), 'username': 'Zack Zomor', 'tag': 'zackzomor'}, {'text': 'Test string for feed testing', 'userImg': 'https://lh3.googleusercontent.com/a/AEdFTp6ezsycop5FQ51bCUGS2zW-EzM8l6R7cPyJZeVU=s96-c', 'id': 'gjNJo321L4j7LRA79xYD', 'timestamp': DatetimeWithNanoseconds(2022, 12, 26, 16, 21, 46, 199000, tzinfo=datetime.timezone.utc), 'username': 'Jesse Dixon', 'tag': 'jessedixon'}, {'text': 'I feel like my brain is melting', 'tag': 'zackzomor', 'id': 'CYIMUn78OTWEsb9iDhWS', 'timestamp': DatetimeWithNanoseconds(2023, 1, 5, 16, 4, 24, 697000, tzinfo=datetime.timezone.utc), 'username': 'Zack Zomor', 'userImg': 'https://lh3.googleusercontent.com/a/AEdFTp6sqFzAnm4SBmuzlJL2rulbgl1NZHSEpMQIMwXQ=s96-c'}, {'text': '😀😀😀 Test', 'tag': 'jessedixon', 'id': 'gjNJo321L4j7LRA79xYD', 'timestamp': DatetimeWithNanoseconds(2022, 12, 31, 20, 33, 54, 124000, tzinfo=datetime.timezone.utc), 'username': 'Jesse Dixon', 'userImg': 'https://firebasestorage.googleapis.com/v0/b/semaphore-a7fd1.appspot.com/o/users%2FgjNJo321L4j7LRA79xYD%2Fimage?alt=media&token=c1df59c5-3162-4902-b1df-f58aa7becff8'}]\n"
     ]
    }
   ],
   "source": [
    "doc_ref = db.collection(u'posts')\n",
    "docs = doc_ref.stream()\n",
    "posts = []\n",
    "for doc in docs:\n",
    "    posts.append(doc.to_dict())\n"
   ]
  },
  {
   "cell_type": "code",
   "execution_count": 7,
   "id": "5abef1fe",
   "metadata": {},
   "outputs": [],
   "source": [
    "import pandas as pd"
   ]
  },
  {
   "cell_type": "code",
   "execution_count": 11,
   "id": "56f1e5ac",
   "metadata": {},
   "outputs": [],
   "source": [
    "posts_df = pd.DataFrame(posts)"
   ]
  },
  {
   "cell_type": "code",
   "execution_count": 12,
   "id": "6b10e48b",
   "metadata": {
    "scrolled": true
   },
   "outputs": [
    {
     "data": {
      "text/html": [
       "<div>\n",
       "<style scoped>\n",
       "    .dataframe tbody tr th:only-of-type {\n",
       "        vertical-align: middle;\n",
       "    }\n",
       "\n",
       "    .dataframe tbody tr th {\n",
       "        vertical-align: top;\n",
       "    }\n",
       "\n",
       "    .dataframe thead th {\n",
       "        text-align: right;\n",
       "    }\n",
       "</style>\n",
       "<table border=\"1\" class=\"dataframe\">\n",
       "  <thead>\n",
       "    <tr style=\"text-align: right;\">\n",
       "      <th></th>\n",
       "      <th>text</th>\n",
       "      <th>tag</th>\n",
       "      <th>id</th>\n",
       "      <th>timestamp</th>\n",
       "      <th>username</th>\n",
       "      <th>userImg</th>\n",
       "    </tr>\n",
       "  </thead>\n",
       "  <tbody>\n",
       "    <tr>\n",
       "      <th>0</th>\n",
       "      <td>My phone has slowed down so much...</td>\n",
       "      <td>zackzomor</td>\n",
       "      <td>CYIMUn78OTWEsb9iDhWS</td>\n",
       "      <td>2023-01-05 16:03:55.595000+00:00</td>\n",
       "      <td>Zack Zomor</td>\n",
       "      <td>https://lh3.googleusercontent.com/a/AEdFTp6sqF...</td>\n",
       "    </tr>\n",
       "    <tr>\n",
       "      <th>1</th>\n",
       "      <td>Gruppa Khmuri is a really good band, would rea...</td>\n",
       "      <td>raspneri</td>\n",
       "      <td>j3yzggbxE9FCb4QTIHZR</td>\n",
       "      <td>2023-01-05 16:13:45.643000+00:00</td>\n",
       "      <td>Rasp Neri</td>\n",
       "      <td>https://firebasestorage.googleapis.com/v0/b/se...</td>\n",
       "    </tr>\n",
       "    <tr>\n",
       "      <th>2</th>\n",
       "      <td>Lorem ipsum dolor sit amet, consectetur adipis...</td>\n",
       "      <td>jessedixon</td>\n",
       "      <td>gjNJo321L4j7LRA79xYD</td>\n",
       "      <td>2022-12-26 16:19:48.032000+00:00</td>\n",
       "      <td>Jesse Dixon</td>\n",
       "      <td>https://lh3.googleusercontent.com/a/AEdFTp6ezs...</td>\n",
       "    </tr>\n",
       "    <tr>\n",
       "      <th>3</th>\n",
       "      <td>Biden is not that great actually</td>\n",
       "      <td>zackzomor</td>\n",
       "      <td>CYIMUn78OTWEsb9iDhWS</td>\n",
       "      <td>2023-01-05 16:14:46.499000+00:00</td>\n",
       "      <td>Zack Zomor</td>\n",
       "      <td>https://lh3.googleusercontent.com/a/AEdFTp6sqF...</td>\n",
       "    </tr>\n",
       "    <tr>\n",
       "      <th>4</th>\n",
       "      <td>Test</td>\n",
       "      <td>jessedixon</td>\n",
       "      <td>gjNJo321L4j7LRA79xYD</td>\n",
       "      <td>2022-12-26 17:47:47.769000+00:00</td>\n",
       "      <td>Jesse Dixon</td>\n",
       "      <td>https://lh3.googleusercontent.com/a/AEdFTp6ezs...</td>\n",
       "    </tr>\n",
       "  </tbody>\n",
       "</table>\n",
       "</div>"
      ],
      "text/plain": [
       "                                                text         tag  \\\n",
       "0                My phone has slowed down so much...   zackzomor   \n",
       "1  Gruppa Khmuri is a really good band, would rea...    raspneri   \n",
       "2  Lorem ipsum dolor sit amet, consectetur adipis...  jessedixon   \n",
       "3                   Biden is not that great actually   zackzomor   \n",
       "4                                               Test  jessedixon   \n",
       "\n",
       "                     id                        timestamp     username  \\\n",
       "0  CYIMUn78OTWEsb9iDhWS 2023-01-05 16:03:55.595000+00:00   Zack Zomor   \n",
       "1  j3yzggbxE9FCb4QTIHZR 2023-01-05 16:13:45.643000+00:00    Rasp Neri   \n",
       "2  gjNJo321L4j7LRA79xYD 2022-12-26 16:19:48.032000+00:00  Jesse Dixon   \n",
       "3  CYIMUn78OTWEsb9iDhWS 2023-01-05 16:14:46.499000+00:00   Zack Zomor   \n",
       "4  gjNJo321L4j7LRA79xYD 2022-12-26 17:47:47.769000+00:00  Jesse Dixon   \n",
       "\n",
       "                                             userImg  \n",
       "0  https://lh3.googleusercontent.com/a/AEdFTp6sqF...  \n",
       "1  https://firebasestorage.googleapis.com/v0/b/se...  \n",
       "2  https://lh3.googleusercontent.com/a/AEdFTp6ezs...  \n",
       "3  https://lh3.googleusercontent.com/a/AEdFTp6sqF...  \n",
       "4  https://lh3.googleusercontent.com/a/AEdFTp6ezs...  "
      ]
     },
     "execution_count": 12,
     "metadata": {},
     "output_type": "execute_result"
    }
   ],
   "source": [
    "posts_df.head()"
   ]
  },
  {
   "cell_type": "code",
   "execution_count": 29,
   "id": "73e272ca",
   "metadata": {},
   "outputs": [
    {
     "name": "stdout",
     "output_type": "stream",
     "text": [
      "User:Jesse Dixon, Posts:5\n"
     ]
    }
   ],
   "source": [
    "posts_df_grouped = posts_df.groupby(\"username\")[\"text\"].count()\n",
    "max_user = posts_df_grouped.idxmax()\n",
    "max_amount = posts_df_grouped.max()\n",
    "print(f\"User:{max_user}, Posts:{max_amount}\")"
   ]
  },
  {
   "cell_type": "code",
   "execution_count": 28,
   "id": "765c8fb5",
   "metadata": {},
   "outputs": [
    {
     "data": {
      "text/plain": [
       "'Jesse Dixon'"
      ]
     },
     "execution_count": 28,
     "metadata": {},
     "output_type": "execute_result"
    }
   ],
   "source": [
    "posts_df_grouped"
   ]
  },
  {
   "cell_type": "code",
   "execution_count": null,
   "id": "5ecd4f40",
   "metadata": {},
   "outputs": [],
   "source": []
  }
 ],
 "metadata": {
  "kernelspec": {
   "display_name": "Python 3 (ipykernel)",
   "language": "python",
   "name": "python3"
  },
  "language_info": {
   "codemirror_mode": {
    "name": "ipython",
    "version": 3
   },
   "file_extension": ".py",
   "mimetype": "text/x-python",
   "name": "python",
   "nbconvert_exporter": "python",
   "pygments_lexer": "ipython3",
   "version": "3.9.13"
  }
 },
 "nbformat": 4,
 "nbformat_minor": 5
}
