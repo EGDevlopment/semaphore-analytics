{
 "cells": [
  {
   "cell_type": "code",
   "execution_count": 9,
   "id": "d5d768c6",
   "metadata": {},
   "outputs": [],
   "source": [
    "import firebase_admin\n",
    "from firebase_admin import credentials\n",
    "from firebase_admin import firestore\n",
    "\n",
    "cred = credentials.Certificate(\"semaphore-a7fd1-firebase-adminsdk-dyeb3-e430d9430a.json\")\n"
   ]
  },
  {
   "cell_type": "code",
   "execution_count": 10,
   "id": "fa5db29d",
   "metadata": {},
   "outputs": [
    {
     "ename": "ValueError",
     "evalue": "The default Firebase app already exists. This means you called initialize_app() more than once without providing an app name as the second argument. In most cases you only need to call initialize_app() once. But if you do want to initialize multiple apps, pass a second argument to initialize_app() to give each app a unique name.",
     "output_type": "error",
     "traceback": [
      "\u001b[0;31m---------------------------------------------------------------------------\u001b[0m",
      "\u001b[0;31mValueError\u001b[0m                                Traceback (most recent call last)",
      "\u001b[0;32m/tmp/ipykernel_14479/3270245078.py\u001b[0m in \u001b[0;36m<module>\u001b[0;34m\u001b[0m\n\u001b[0;32m----> 1\u001b[0;31m \u001b[0mapp\u001b[0m \u001b[0;34m=\u001b[0m \u001b[0mfirebase_admin\u001b[0m\u001b[0;34m.\u001b[0m\u001b[0minitialize_app\u001b[0m\u001b[0;34m(\u001b[0m\u001b[0mcred\u001b[0m\u001b[0;34m)\u001b[0m\u001b[0;34m\u001b[0m\u001b[0;34m\u001b[0m\u001b[0m\n\u001b[0m\u001b[1;32m      2\u001b[0m \u001b[0;34m\u001b[0m\u001b[0m\n\u001b[1;32m      3\u001b[0m \u001b[0mdb\u001b[0m \u001b[0;34m=\u001b[0m \u001b[0mfirestore\u001b[0m\u001b[0;34m.\u001b[0m\u001b[0mclient\u001b[0m\u001b[0;34m(\u001b[0m\u001b[0;34m)\u001b[0m\u001b[0;34m\u001b[0m\u001b[0;34m\u001b[0m\u001b[0m\n",
      "\u001b[0;32m~/anaconda3/lib/python3.9/site-packages/firebase_admin/__init__.py\u001b[0m in \u001b[0;36minitialize_app\u001b[0;34m(credential, options, name)\u001b[0m\n\u001b[1;32m     69\u001b[0m \u001b[0;34m\u001b[0m\u001b[0m\n\u001b[1;32m     70\u001b[0m     \u001b[0;32mif\u001b[0m \u001b[0mname\u001b[0m \u001b[0;34m==\u001b[0m \u001b[0m_DEFAULT_APP_NAME\u001b[0m\u001b[0;34m:\u001b[0m\u001b[0;34m\u001b[0m\u001b[0;34m\u001b[0m\u001b[0m\n\u001b[0;32m---> 71\u001b[0;31m         raise ValueError((\n\u001b[0m\u001b[1;32m     72\u001b[0m             \u001b[0;34m'The default Firebase app already exists. This means you called '\u001b[0m\u001b[0;34m\u001b[0m\u001b[0;34m\u001b[0m\u001b[0m\n\u001b[1;32m     73\u001b[0m             \u001b[0;34m'initialize_app() more than once without providing an app name as '\u001b[0m\u001b[0;34m\u001b[0m\u001b[0;34m\u001b[0m\u001b[0m\n",
      "\u001b[0;31mValueError\u001b[0m: The default Firebase app already exists. This means you called initialize_app() more than once without providing an app name as the second argument. In most cases you only need to call initialize_app() once. But if you do want to initialize multiple apps, pass a second argument to initialize_app() to give each app a unique name."
     ]
    }
   ],
   "source": [
    "app = firebase_admin.initialize_app(cred)\n",
    "\n",
    "db = firestore.client()"
   ]
  },
  {
   "cell_type": "code",
   "execution_count": 16,
   "id": "a18e5cf2",
   "metadata": {},
   "outputs": [
    {
     "name": "stdout",
     "output_type": "stream",
     "text": [
      "[{'comment': 'clear out all the garbage apps from it', 'userImg': 'https://firebasestorage.googleapis.com/v0/b/semaphore-a7fd1.appspot.com/o/users%2Fj3yzggbxE9FCb4QTIHZR%2Fimage?alt=media&token=16b8c731-8d94-490f-bcd0-1ae771593f46', 'id': 'j3yzggbxE9FCb4QTIHZR', 'timestamp': DatetimeWithNanoseconds(2023, 1, 6, 10, 52, 23, 534000, tzinfo=datetime.timezone.utc), 'username': 'Rasp Neri', 'tag': 'raspneri'}, {'comment': 'keep testing', 'tag': 'raspneri', 'id': 'j3yzggbxE9FCb4QTIHZR', 'timestamp': DatetimeWithNanoseconds(2023, 1, 5, 16, 12, 0, 788000, tzinfo=datetime.timezone.utc), 'username': 'Rasp Neri', 'userImg': 'https://firebasestorage.googleapis.com/v0/b/semaphore-a7fd1.appspot.com/o/users%2Fj3yzggbxE9FCb4QTIHZR%2Fimage?alt=media&token=16b8c731-8d94-490f-bcd0-1ae771593f46'}, {'comment': \"how's the testing going?\", 'userImg': 'https://lh3.googleusercontent.com/a/AEdFTp6sqFzAnm4SBmuzlJL2rulbgl1NZHSEpMQIMwXQ=s96-c', 'id': 'CYIMUn78OTWEsb9iDhWS', 'timestamp': DatetimeWithNanoseconds(2023, 1, 5, 16, 6, 59, 893000, tzinfo=datetime.timezone.utc), 'username': 'Zack Zomor', 'tag': 'zackzomor'}]\n"
     ]
    }
   ],
   "source": [
    "doc_ref = db.collection(u'posts')\n",
    "docs = doc_ref.stream()\n",
    "posts = []\n",
    "comments = []\n",
    "likes = []\n",
    "\n",
    "for doc in docs:\n",
    "    comments_ref = db.collection(u'posts').document(doc.id).collection('comments')\n",
    "    \n",
    "    for comment in comments_ref.stream():\n",
    "        comments.append(comment.to_dict())\n",
    "        \n",
    "    posts.append(doc.to_dict())\n"
   ]
  },
  {
   "cell_type": "code",
   "execution_count": 4,
   "id": "5abef1fe",
   "metadata": {},
   "outputs": [],
   "source": [
    "import pandas as pd"
   ]
  },
  {
   "cell_type": "code",
   "execution_count": 5,
   "id": "56f1e5ac",
   "metadata": {},
   "outputs": [],
   "source": [
    "posts_df = pd.DataFrame(posts)"
   ]
  },
  {
   "cell_type": "code",
   "execution_count": 12,
   "id": "6b10e48b",
   "metadata": {
    "scrolled": true
   },
   "outputs": [
    {
     "data": {
      "text/html": [
       "<div>\n",
       "<style scoped>\n",
       "    .dataframe tbody tr th:only-of-type {\n",
       "        vertical-align: middle;\n",
       "    }\n",
       "\n",
       "    .dataframe tbody tr th {\n",
       "        vertical-align: top;\n",
       "    }\n",
       "\n",
       "    .dataframe thead th {\n",
       "        text-align: right;\n",
       "    }\n",
       "</style>\n",
       "<table border=\"1\" class=\"dataframe\">\n",
       "  <thead>\n",
       "    <tr style=\"text-align: right;\">\n",
       "      <th></th>\n",
       "      <th>text</th>\n",
       "      <th>tag</th>\n",
       "      <th>id</th>\n",
       "      <th>timestamp</th>\n",
       "      <th>username</th>\n",
       "      <th>userImg</th>\n",
       "    </tr>\n",
       "  </thead>\n",
       "  <tbody>\n",
       "    <tr>\n",
       "      <th>0</th>\n",
       "      <td>My phone has slowed down so much...</td>\n",
       "      <td>zackzomor</td>\n",
       "      <td>CYIMUn78OTWEsb9iDhWS</td>\n",
       "      <td>2023-01-05 16:03:55.595000+00:00</td>\n",
       "      <td>Zack Zomor</td>\n",
       "      <td>https://lh3.googleusercontent.com/a/AEdFTp6sqF...</td>\n",
       "    </tr>\n",
       "    <tr>\n",
       "      <th>1</th>\n",
       "      <td>Gruppa Khmuri is a really good band, would rea...</td>\n",
       "      <td>raspneri</td>\n",
       "      <td>j3yzggbxE9FCb4QTIHZR</td>\n",
       "      <td>2023-01-05 16:13:45.643000+00:00</td>\n",
       "      <td>Rasp Neri</td>\n",
       "      <td>https://firebasestorage.googleapis.com/v0/b/se...</td>\n",
       "    </tr>\n",
       "    <tr>\n",
       "      <th>2</th>\n",
       "      <td>Lorem ipsum dolor sit amet, consectetur adipis...</td>\n",
       "      <td>jessedixon</td>\n",
       "      <td>gjNJo321L4j7LRA79xYD</td>\n",
       "      <td>2022-12-26 16:19:48.032000+00:00</td>\n",
       "      <td>Jesse Dixon</td>\n",
       "      <td>https://lh3.googleusercontent.com/a/AEdFTp6ezs...</td>\n",
       "    </tr>\n",
       "    <tr>\n",
       "      <th>3</th>\n",
       "      <td>Biden is not that great actually</td>\n",
       "      <td>zackzomor</td>\n",
       "      <td>CYIMUn78OTWEsb9iDhWS</td>\n",
       "      <td>2023-01-05 16:14:46.499000+00:00</td>\n",
       "      <td>Zack Zomor</td>\n",
       "      <td>https://lh3.googleusercontent.com/a/AEdFTp6sqF...</td>\n",
       "    </tr>\n",
       "    <tr>\n",
       "      <th>4</th>\n",
       "      <td>Test</td>\n",
       "      <td>jessedixon</td>\n",
       "      <td>gjNJo321L4j7LRA79xYD</td>\n",
       "      <td>2022-12-26 17:47:47.769000+00:00</td>\n",
       "      <td>Jesse Dixon</td>\n",
       "      <td>https://lh3.googleusercontent.com/a/AEdFTp6ezs...</td>\n",
       "    </tr>\n",
       "  </tbody>\n",
       "</table>\n",
       "</div>"
      ],
      "text/plain": [
       "                                                text         tag  \\\n",
       "0                My phone has slowed down so much...   zackzomor   \n",
       "1  Gruppa Khmuri is a really good band, would rea...    raspneri   \n",
       "2  Lorem ipsum dolor sit amet, consectetur adipis...  jessedixon   \n",
       "3                   Biden is not that great actually   zackzomor   \n",
       "4                                               Test  jessedixon   \n",
       "\n",
       "                     id                        timestamp     username  \\\n",
       "0  CYIMUn78OTWEsb9iDhWS 2023-01-05 16:03:55.595000+00:00   Zack Zomor   \n",
       "1  j3yzggbxE9FCb4QTIHZR 2023-01-05 16:13:45.643000+00:00    Rasp Neri   \n",
       "2  gjNJo321L4j7LRA79xYD 2022-12-26 16:19:48.032000+00:00  Jesse Dixon   \n",
       "3  CYIMUn78OTWEsb9iDhWS 2023-01-05 16:14:46.499000+00:00   Zack Zomor   \n",
       "4  gjNJo321L4j7LRA79xYD 2022-12-26 17:47:47.769000+00:00  Jesse Dixon   \n",
       "\n",
       "                                             userImg  \n",
       "0  https://lh3.googleusercontent.com/a/AEdFTp6sqF...  \n",
       "1  https://firebasestorage.googleapis.com/v0/b/se...  \n",
       "2  https://lh3.googleusercontent.com/a/AEdFTp6ezs...  \n",
       "3  https://lh3.googleusercontent.com/a/AEdFTp6sqF...  \n",
       "4  https://lh3.googleusercontent.com/a/AEdFTp6ezs...  "
      ]
     },
     "execution_count": 12,
     "metadata": {},
     "output_type": "execute_result"
    }
   ],
   "source": [
    "posts_df.head()"
   ]
  },
  {
   "cell_type": "code",
   "execution_count": 29,
   "id": "73e272ca",
   "metadata": {},
   "outputs": [
    {
     "name": "stdout",
     "output_type": "stream",
     "text": [
      "User:Jesse Dixon, Posts:5\n"
     ]
    }
   ],
   "source": [
    "posts_df_grouped = posts_df.groupby(\"username\")[\"text\"].count()\n",
    "max_user = posts_df_grouped.idxmax()\n",
    "max_amount = posts_df_grouped.max()\n",
    "print(f\"User:{max_user}, Posts:{max_amount}\")"
   ]
  },
  {
   "cell_type": "code",
   "execution_count": 28,
   "id": "765c8fb5",
   "metadata": {},
   "outputs": [
    {
     "data": {
      "text/plain": [
       "'Jesse Dixon'"
      ]
     },
     "execution_count": 28,
     "metadata": {},
     "output_type": "execute_result"
    }
   ],
   "source": [
    "posts_df_grouped"
   ]
  },
  {
   "cell_type": "code",
   "execution_count": 18,
   "id": "5ecd4f40",
   "metadata": {
    "scrolled": true
   },
   "outputs": [
    {
     "name": "stdout",
     "output_type": "stream",
     "text": [
      "User:Rasp Neri, Comments:2\n"
     ]
    }
   ],
   "source": [
    "comments_df = pd.DataFrame(comments)\n",
    "comments_df_grouped = comments_df.groupby(\"username\")[\"comment\"].count()\n",
    "max_user_comments = comments_df_grouped.idxmax()\n",
    "max_amount_comments = comments_df_grouped.max()\n",
    "\n",
    "print(f\"User:{max_user_comments}, Comments:{max_amount_comments}\")"
   ]
  },
  {
   "cell_type": "code",
   "execution_count": 21,
   "id": "53752c8e",
   "metadata": {},
   "outputs": [],
   "source": [
    "import pandas as pd\n",
    "import numpy as np\n",
    "import requests\n",
    "import nltk\n",
    "import string\n",
    "import re\n",
    "import os\n",
    "from collections import Counter"
   ]
  },
  {
   "cell_type": "code",
   "execution_count": 22,
   "id": "0eec32cf",
   "metadata": {},
   "outputs": [],
   "source": [
    "posts = posts_df['text']"
   ]
  },
  {
   "cell_type": "code",
   "execution_count": 49,
   "id": "6ca07b44",
   "metadata": {},
   "outputs": [],
   "source": [
    "stop_words = [\"a\", \"an\",\"I\",\"i\", \"the\", \"this\", \"that\", \"it\", \"is\", \"really\", \"to\", \"and\", \"for\", \"these\", \"those\"] + list(string.punctuation)"
   ]
  },
  {
   "cell_type": "code",
   "execution_count": 43,
   "id": "17ab70d6",
   "metadata": {},
   "outputs": [
    {
     "data": {
      "text/plain": [
       "['My', 'phone', 'has', 'slowed', 'down', 'so', 'much', '...']"
      ]
     },
     "execution_count": 43,
     "metadata": {},
     "output_type": "execute_result"
    }
   ],
   "source": [
    "filtered_wordlists = []\n",
    "for post in posts:\n",
    "    wordlist = [word for word in nltk.word_tokenize(post) if word not in stop_words] #a list of words per tweet\n",
    "    filtered_wordlists.append(wordlist)\n",
    "filtered_wordlists[0]"
   ]
  },
  {
   "cell_type": "code",
   "execution_count": 44,
   "id": "95170a1c",
   "metadata": {},
   "outputs": [
    {
     "name": "stderr",
     "output_type": "stream",
     "text": [
      "[nltk_data] Downloading package punkt to /home/inferno/nltk_data...\n",
      "[nltk_data]   Package punkt is already up-to-date!\n"
     ]
    },
    {
     "data": {
      "text/plain": [
       "True"
      ]
     },
     "execution_count": 44,
     "metadata": {},
     "output_type": "execute_result"
    }
   ],
   "source": [
    "nltk.download('punkt')"
   ]
  },
  {
   "cell_type": "code",
   "execution_count": 45,
   "id": "943895ce",
   "metadata": {},
   "outputs": [
    {
     "data": {
      "text/plain": [
       "[['My', 'phone', 'has', 'slowed', 'down', 'so', 'much', '...'],\n",
       " ['Gruppa', 'Khmuri', 'good', 'band', 'would', 'recommended'],\n",
       " ['Lorem',\n",
       "  'ipsum',\n",
       "  'dolor',\n",
       "  'sit',\n",
       "  'amet',\n",
       "  'consectetur',\n",
       "  'adipiscing',\n",
       "  'elit',\n",
       "  'Vestibulum',\n",
       "  'aliquam',\n",
       "  'elementum',\n",
       "  'massa',\n",
       "  'sollicitudin',\n",
       "  'Praesent',\n",
       "  '😀🙃🙃'],\n",
       " ['Biden', 'not', 'great', 'actually'],\n",
       " ['Test'],\n",
       " ['in',\n",
       "  'end',\n",
       "  'I',\n",
       "  \"'m\",\n",
       "  'thankful',\n",
       "  'we',\n",
       "  'have',\n",
       "  'Biden',\n",
       "  'instead',\n",
       "  'of',\n",
       "  'other',\n",
       "  'guy'],\n",
       " ['The', 'most', 'dangerous', 'thing', 'in', 'world', 'bad', 'decision'],\n",
       " ['Biden', \"n't\", 'bad', 'actually'],\n",
       " ['Eating', 'healthy', 'important'],\n",
       " ['Let', \"'s\", 'try', 'app', 'out'],\n",
       " ['Lorem',\n",
       "  'ipsum',\n",
       "  'dolor',\n",
       "  'sit',\n",
       "  'amet',\n",
       "  'consectetur',\n",
       "  'adipiscing',\n",
       "  'elit',\n",
       "  'Nunc',\n",
       "  'scelerisque',\n",
       "  'sed',\n",
       "  'nunc',\n",
       "  'ac',\n",
       "  'laoreet',\n",
       "  'Class',\n",
       "  '😄😄😄'],\n",
       " ['Nice', 'i', 'can', 'write', 'hare'],\n",
       " ['I',\n",
       "  'ate',\n",
       "  '6',\n",
       "  'donuts',\n",
       "  'breakfast',\n",
       "  '4',\n",
       "  'lunch',\n",
       "  '3',\n",
       "  'dinner',\n",
       "  '1',\n",
       "  'dessert',\n",
       "  'Do',\n",
       "  'I',\n",
       "  'have',\n",
       "  'diabetes'],\n",
       " ['Test', 'string', 'feed', 'testing'],\n",
       " ['I', 'feel', 'like', 'my', 'brain', 'melting'],\n",
       " ['😀😀😀', 'Test']]"
      ]
     },
     "execution_count": 45,
     "metadata": {},
     "output_type": "execute_result"
    }
   ],
   "source": [
    "filtered_wordlists"
   ]
  },
  {
   "cell_type": "code",
   "execution_count": 46,
   "id": "cfa682d7",
   "metadata": {},
   "outputs": [],
   "source": [
    "all_words = [item\n",
    "              for sublist in filtered_wordlists\n",
    "              for item in sublist]"
   ]
  },
  {
   "cell_type": "code",
   "execution_count": 47,
   "id": "82f88af8",
   "metadata": {},
   "outputs": [
    {
     "data": {
      "text/plain": [
       "['My',\n",
       " 'phone',\n",
       " 'has',\n",
       " 'slowed',\n",
       " 'down',\n",
       " 'so',\n",
       " 'much',\n",
       " '...',\n",
       " 'Gruppa',\n",
       " 'Khmuri',\n",
       " 'good',\n",
       " 'band',\n",
       " 'would',\n",
       " 'recommended',\n",
       " 'Lorem',\n",
       " 'ipsum',\n",
       " 'dolor',\n",
       " 'sit',\n",
       " 'amet',\n",
       " 'consectetur',\n",
       " 'adipiscing',\n",
       " 'elit',\n",
       " 'Vestibulum',\n",
       " 'aliquam',\n",
       " 'elementum',\n",
       " 'massa',\n",
       " 'sollicitudin',\n",
       " 'Praesent',\n",
       " '😀🙃🙃',\n",
       " 'Biden',\n",
       " 'not',\n",
       " 'great',\n",
       " 'actually',\n",
       " 'Test',\n",
       " 'in',\n",
       " 'end',\n",
       " 'I',\n",
       " \"'m\",\n",
       " 'thankful',\n",
       " 'we',\n",
       " 'have',\n",
       " 'Biden',\n",
       " 'instead',\n",
       " 'of',\n",
       " 'other',\n",
       " 'guy',\n",
       " 'The',\n",
       " 'most',\n",
       " 'dangerous',\n",
       " 'thing',\n",
       " 'in',\n",
       " 'world',\n",
       " 'bad',\n",
       " 'decision',\n",
       " 'Biden',\n",
       " \"n't\",\n",
       " 'bad',\n",
       " 'actually',\n",
       " 'Eating',\n",
       " 'healthy',\n",
       " 'important',\n",
       " 'Let',\n",
       " \"'s\",\n",
       " 'try',\n",
       " 'app',\n",
       " 'out',\n",
       " 'Lorem',\n",
       " 'ipsum',\n",
       " 'dolor',\n",
       " 'sit',\n",
       " 'amet',\n",
       " 'consectetur',\n",
       " 'adipiscing',\n",
       " 'elit',\n",
       " 'Nunc',\n",
       " 'scelerisque',\n",
       " 'sed',\n",
       " 'nunc',\n",
       " 'ac',\n",
       " 'laoreet',\n",
       " 'Class',\n",
       " '😄😄😄',\n",
       " 'Nice',\n",
       " 'i',\n",
       " 'can',\n",
       " 'write',\n",
       " 'hare',\n",
       " 'I',\n",
       " 'ate',\n",
       " '6',\n",
       " 'donuts',\n",
       " 'breakfast',\n",
       " '4',\n",
       " 'lunch',\n",
       " '3',\n",
       " 'dinner',\n",
       " '1',\n",
       " 'dessert',\n",
       " 'Do',\n",
       " 'I',\n",
       " 'have',\n",
       " 'diabetes',\n",
       " 'Test',\n",
       " 'string',\n",
       " 'feed',\n",
       " 'testing',\n",
       " 'I',\n",
       " 'feel',\n",
       " 'like',\n",
       " 'my',\n",
       " 'brain',\n",
       " 'melting',\n",
       " '😀😀😀',\n",
       " 'Test']"
      ]
     },
     "execution_count": 47,
     "metadata": {},
     "output_type": "execute_result"
    }
   ],
   "source": [
    "all_words"
   ]
  },
  {
   "cell_type": "code",
   "execution_count": 48,
   "id": "bbb97a74",
   "metadata": {},
   "outputs": [
    {
     "data": {
      "text/plain": [
       "[('I', 4),\n",
       " ('Biden', 3),\n",
       " ('Test', 3),\n",
       " ('Lorem', 2),\n",
       " ('ipsum', 2),\n",
       " ('dolor', 2),\n",
       " ('sit', 2),\n",
       " ('amet', 2),\n",
       " ('consectetur', 2),\n",
       " ('adipiscing', 2)]"
      ]
     },
     "execution_count": 48,
     "metadata": {},
     "output_type": "execute_result"
    }
   ],
   "source": [
    "word_counter = Counter(all_words)\n",
    "most_common_words = word_counter.most_common(10)\n",
    "most_common_words"
   ]
  },
  {
   "cell_type": "code",
   "execution_count": null,
   "id": "32b4f9e6",
   "metadata": {},
   "outputs": [],
   "source": []
  }
 ],
 "metadata": {
  "kernelspec": {
   "display_name": "Python 3 (ipykernel)",
   "language": "python",
   "name": "python3"
  },
  "language_info": {
   "codemirror_mode": {
    "name": "ipython",
    "version": 3
   },
   "file_extension": ".py",
   "mimetype": "text/x-python",
   "name": "python",
   "nbconvert_exporter": "python",
   "pygments_lexer": "ipython3",
   "version": "3.9.13"
  }
 },
 "nbformat": 4,
 "nbformat_minor": 5
}
